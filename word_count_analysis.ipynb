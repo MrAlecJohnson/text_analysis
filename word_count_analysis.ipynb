{
 "cells": [
  {
   "cell_type": "code",
   "execution_count": null,
   "metadata": {},
   "outputs": [],
   "source": [
    "import pandas as pd\n",
    "import matplotlib\n",
    "import matplotlib.pyplot as plt\n",
    "\n",
    "matplotlib.style.use('ggplot')\n",
    "plt.scatter(df['TotalVotes'], df['Positive%'])\n",
    "plt.show()\n",
    "\n",
    "df.drop(['NoVotes', 'YesVotes'], axis = 1, inplace = True)\n",
    "\n",
    "correlation_beta = df[df['Template'] == 'BetaContentPage'].corr()\n",
    "correlation_old = df[df['Template'] == 'AdviceguidePage'].corr()\n",
    "correlation_benefits = df[df['Page'].str.startswith('/benefits/')].corr()\n"
   ]
  }
 ],
 "metadata": {
  "kernelspec": {
   "display_name": "Python 3",
   "language": "python",
   "name": "python3"
  },
  "language_info": {
   "codemirror_mode": {
    "name": "ipython",
    "version": 3
   },
   "file_extension": ".py",
   "mimetype": "text/x-python",
   "name": "python",
   "nbconvert_exporter": "python",
   "pygments_lexer": "ipython3",
   "version": "3.7.5"
  }
 },
 "nbformat": 4,
 "nbformat_minor": 2
}
